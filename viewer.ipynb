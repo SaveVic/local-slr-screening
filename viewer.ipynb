{
 "cells": [
  {
   "cell_type": "code",
   "execution_count": 2,
   "id": "e013fb58",
   "metadata": {},
   "outputs": [],
   "source": [
    "import pickle\n",
    "\n",
    "with open('outputs/result_scopus_phi4-mini.pkl', 'rb') as f:\n",
    "    data = pickle.load(f)"
   ]
  },
  {
   "cell_type": "code",
   "execution_count": 3,
   "id": "aeabb091",
   "metadata": {},
   "outputs": [
    {
     "name": "stdout",
     "output_type": "stream",
     "text": [
      "RELEVANT: 119\n",
      "IRRELEVANT: 176\n",
      "ERROR: 0\n"
     ]
    }
   ],
   "source": [
    "cnt = [0, 0, 0]\n",
    "for v, _ in data:\n",
    "    cnt[v+1] += 1\n",
    "\n",
    "print('RELEVANT:', cnt[2])\n",
    "print('IRRELEVANT:', cnt[1])\n",
    "print('ERROR:', cnt[0])"
   ]
  },
  {
   "cell_type": "code",
   "execution_count": 1,
   "id": "8ed3f2c8",
   "metadata": {},
   "outputs": [
    {
     "name": "stderr",
     "output_type": "stream",
     "text": [
      "<>:3: SyntaxWarning: invalid escape sequence '\\s'\n",
      "<>:3: SyntaxWarning: invalid escape sequence '\\s'\n",
      "C:\\Users\\Zanner\\AppData\\Local\\Temp\\ipykernel_13964\\2614080016.py:3: SyntaxWarning: invalid escape sequence '\\s'\n",
      "  p = 'sources\\scopus.csv'\n"
     ]
    },
    {
     "data": {
      "text/html": [
       "<div>\n",
       "<style scoped>\n",
       "    .dataframe tbody tr th:only-of-type {\n",
       "        vertical-align: middle;\n",
       "    }\n",
       "\n",
       "    .dataframe tbody tr th {\n",
       "        vertical-align: top;\n",
       "    }\n",
       "\n",
       "    .dataframe thead th {\n",
       "        text-align: right;\n",
       "    }\n",
       "</style>\n",
       "<table border=\"1\" class=\"dataframe\">\n",
       "  <thead>\n",
       "    <tr style=\"text-align: right;\">\n",
       "      <th></th>\n",
       "      <th>Author</th>\n",
       "      <th>Tittle</th>\n",
       "      <th>Tahun</th>\n",
       "      <th>Doi</th>\n",
       "      <th>Link</th>\n",
       "      <th>Abstrak</th>\n",
       "      <th>EID</th>\n",
       "      <th>Status</th>\n",
       "    </tr>\n",
       "  </thead>\n",
       "  <tbody>\n",
       "    <tr>\n",
       "      <th>0</th>\n",
       "      <td>Lamb, Liliane Weber Bolfe (58693164700); Rodri...</td>\n",
       "      <td>Permitted daily exposure from preclinical stud...</td>\n",
       "      <td>2023</td>\n",
       "      <td>10.1590/s2175-97902023e23037</td>\n",
       "      <td>https://www.scopus.com/inward/record.uri?eid=2...</td>\n",
       "      <td>Resolution 658/2022 of the Brazilian Regulator...</td>\n",
       "      <td>2-s2.0-85176501391</td>\n",
       "      <td>NaN</td>\n",
       "    </tr>\n",
       "    <tr>\n",
       "      <th>1</th>\n",
       "      <td>Chauncey, Sarah A. (37040432000); McKenna, H. ...</td>\n",
       "      <td>A framework and exemplars for ethical and resp...</td>\n",
       "      <td>2023</td>\n",
       "      <td>10.1016/j.caeai.2023.100182</td>\n",
       "      <td>https://www.scopus.com/inward/record.uri?eid=2...</td>\n",
       "      <td>The aim of this paper is to investigate the et...</td>\n",
       "      <td>2-s2.0-85177213683</td>\n",
       "      <td>NaN</td>\n",
       "    </tr>\n",
       "    <tr>\n",
       "      <th>2</th>\n",
       "      <td>Zhao, Kun (56718993100); Farrell, Katie (58726...</td>\n",
       "      <td>A search-based geographic metadata curation pi...</td>\n",
       "      <td>2023</td>\n",
       "      <td>10.3389/fpubh.2023.1254976</td>\n",
       "      <td>https://www.scopus.com/inward/record.uri?eid=2...</td>\n",
       "      <td>Background: The National Center for Biotechnol...</td>\n",
       "      <td>2-s2.0-85178031636</td>\n",
       "      <td>NaN</td>\n",
       "    </tr>\n",
       "    <tr>\n",
       "      <th>3</th>\n",
       "      <td>De Vasconcellos, Vinicius Gomes (57192271578)</td>\n",
       "      <td>Editorial - Artificial intelligence and co-aut...</td>\n",
       "      <td>2023</td>\n",
       "      <td>10.22197/rbdpp.v9i3.913</td>\n",
       "      <td>https://www.scopus.com/inward/record.uri?eid=2...</td>\n",
       "      <td>This paper intends to analyze the use of artif...</td>\n",
       "      <td>2-s2.0-85177088679</td>\n",
       "      <td>NaN</td>\n",
       "    </tr>\n",
       "    <tr>\n",
       "      <th>4</th>\n",
       "      <td>Gu, Shangding (57214090538); Kshirsagar, Alap ...</td>\n",
       "      <td>A human-centered safe robot reinforcement lear...</td>\n",
       "      <td>2023</td>\n",
       "      <td>10.3389/fnbot.2023.1280341</td>\n",
       "      <td>https://www.scopus.com/inward/record.uri?eid=2...</td>\n",
       "      <td>Deployment of Reinforcement Learning (RL) algo...</td>\n",
       "      <td>2-s2.0-85177694230</td>\n",
       "      <td>NaN</td>\n",
       "    </tr>\n",
       "  </tbody>\n",
       "</table>\n",
       "</div>"
      ],
      "text/plain": [
       "                                              Author  \\\n",
       "0  Lamb, Liliane Weber Bolfe (58693164700); Rodri...   \n",
       "1  Chauncey, Sarah A. (37040432000); McKenna, H. ...   \n",
       "2  Zhao, Kun (56718993100); Farrell, Katie (58726...   \n",
       "3      De Vasconcellos, Vinicius Gomes (57192271578)   \n",
       "4  Gu, Shangding (57214090538); Kshirsagar, Alap ...   \n",
       "\n",
       "                                              Tittle  Tahun  \\\n",
       "0  Permitted daily exposure from preclinical stud...   2023   \n",
       "1  A framework and exemplars for ethical and resp...   2023   \n",
       "2  A search-based geographic metadata curation pi...   2023   \n",
       "3  Editorial - Artificial intelligence and co-aut...   2023   \n",
       "4  A human-centered safe robot reinforcement lear...   2023   \n",
       "\n",
       "                            Doi  \\\n",
       "0  10.1590/s2175-97902023e23037   \n",
       "1   10.1016/j.caeai.2023.100182   \n",
       "2    10.3389/fpubh.2023.1254976   \n",
       "3       10.22197/rbdpp.v9i3.913   \n",
       "4    10.3389/fnbot.2023.1280341   \n",
       "\n",
       "                                                Link  \\\n",
       "0  https://www.scopus.com/inward/record.uri?eid=2...   \n",
       "1  https://www.scopus.com/inward/record.uri?eid=2...   \n",
       "2  https://www.scopus.com/inward/record.uri?eid=2...   \n",
       "3  https://www.scopus.com/inward/record.uri?eid=2...   \n",
       "4  https://www.scopus.com/inward/record.uri?eid=2...   \n",
       "\n",
       "                                             Abstrak                 EID  \\\n",
       "0  Resolution 658/2022 of the Brazilian Regulator...  2-s2.0-85176501391   \n",
       "1  The aim of this paper is to investigate the et...  2-s2.0-85177213683   \n",
       "2  Background: The National Center for Biotechnol...  2-s2.0-85178031636   \n",
       "3  This paper intends to analyze the use of artif...  2-s2.0-85177088679   \n",
       "4  Deployment of Reinforcement Learning (RL) algo...  2-s2.0-85177694230   \n",
       "\n",
       "   Status  \n",
       "0     NaN  \n",
       "1     NaN  \n",
       "2     NaN  \n",
       "3     NaN  \n",
       "4     NaN  "
      ]
     },
     "execution_count": 1,
     "metadata": {},
     "output_type": "execute_result"
    }
   ],
   "source": [
    "import pandas as pd\n",
    "\n",
    "p = 'sources\\scopus.csv'\n",
    "df = pd.read_csv(p)\n",
    "df.head()"
   ]
  },
  {
   "cell_type": "code",
   "execution_count": 6,
   "id": "1311f645",
   "metadata": {},
   "outputs": [
    {
     "data": {
      "text/plain": [
       "3477"
      ]
     },
     "execution_count": 6,
     "metadata": {},
     "output_type": "execute_result"
    }
   ],
   "source": [
    "first_15000 = df.iloc[:-15000]\n",
    "len(first_15000)"
   ]
  },
  {
   "cell_type": "code",
   "execution_count": 8,
   "id": "07ea77ba",
   "metadata": {},
   "outputs": [],
   "source": [
    "first_15000.to_csv('scopus.csv')"
   ]
  },
  {
   "cell_type": "code",
   "execution_count": null,
   "id": "a99d289c",
   "metadata": {},
   "outputs": [],
   "source": []
  }
 ],
 "metadata": {
  "kernelspec": {
   "display_name": "Python 3",
   "language": "python",
   "name": "python3"
  },
  "language_info": {
   "codemirror_mode": {
    "name": "ipython",
    "version": 3
   },
   "file_extension": ".py",
   "mimetype": "text/x-python",
   "name": "python",
   "nbconvert_exporter": "python",
   "pygments_lexer": "ipython3",
   "version": "3.13.3"
  }
 },
 "nbformat": 4,
 "nbformat_minor": 5
}
